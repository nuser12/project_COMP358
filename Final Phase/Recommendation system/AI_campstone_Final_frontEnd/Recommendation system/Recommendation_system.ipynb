{
  "cells": [
    {
      "cell_type": "code",
      "execution_count": 1,
      "metadata": {
        "colab": {
          "base_uri": "https://localhost:8080/",
          "height": 177
        },
        "id": "PCUT7F_dWI12",
        "outputId": "7dfd45a2-b265-46f8-c8f0-6f9ce5c343a6"
      },
      "outputs": [
        {
          "data": {
            "application/vnd.jupyter.widget-view+json": {
              "model_id": "a63316f8431d46ec831f5ea55370be75",
              "version_major": 2,
              "version_minor": 0
            },
            "text/plain": [
              "FileUpload(value={}, accept='.pkl,.csv', description='Upload', multiple=True)"
            ]
          },
          "metadata": {},
          "output_type": "display_data"
        },
        {
          "name": "stdout",
          "output_type": "stream",
          "text": [
            "Loaded: final_rf_model.pkl\n"
          ]
        }
      ],
      "source": [
        "# Smart Course Recommendation Script for VS Code (.ipynb)\n",
        "\n",
        "import pandas as pd\n",
        "import joblib\n",
        "import ipywidgets as widgets\n",
        "from IPython.display import display\n",
        "import io\n",
        "\n",
        "# Upload model and student profile file\n",
        "uploader = widgets.FileUpload(accept='.pkl,.csv', multiple=True)\n",
        "display(uploader)\n",
        "\n",
        "model = None\n",
        "students_df = None\n",
        "\n",
        "def handle_upload(change):\n",
        "    global model, students_df\n",
        "\n",
        "    for filename, file_info in uploader.value.items():\n",
        "        print(f\"Loaded: {filename}\")\n",
        "        content = file_info['content']\n",
        "\n",
        "        if filename.endswith('.pkl'):\n",
        "            with open('final_rf_model.pkl', 'wb') as f:\n",
        "                f.write(content)\n",
        "            model = joblib.load('final_rf_model.pkl')\n",
        "\n",
        "        elif filename.endswith('.csv'):\n",
        "            students_df = pd.read_csv(io.StringIO(content.decode('utf-8')))\n",
        "\n",
        "uploader.observe(handle_upload, names='value')\n"
      ]
    },
    {
      "cell_type": "code",
      "execution_count": 2,
      "metadata": {
        "colab": {
          "base_uri": "https://localhost:8080/"
        },
        "id": "GyQyo7H5HjRJ",
        "outputId": "d90fb417-216b-4220-ac8c-ee5fa1cf1bda"
      },
      "outputs": [
        {
          "name": "stdout",
          "output_type": "stream",
          "text": [
            "\n",
            "Welcome to the Course Recommendation System!\n",
            "\n",
            " Based on your GPA and certifications, you're recommended for: Advanced level courses.\n",
            "\n",
            "No direct match found. Showing general success skill course.\n",
            "\n",
            " Recommended Course: General Success Skills\n",
            "\n",
            "✅ Personalized recommendation saved to 'user_recommendation_summary.csv'\n"
          ]
        }
      ],
      "source": [
        "# Enhanced Course Recommendation System with Broader Matching by Major\n",
        "\n",
        "\n",
        "# Ask user for preferences and basic profile info\n",
        "def get_user_input():\n",
        "    print(\"\\nWelcome to the Course Recommendation System!\")\n",
        "    major = input(\"Enter your major (e.g., AI & Robotics, Finance, UI/UX Design, Business, Healthcare): \").strip()\n",
        "    if not major:\n",
        "        print(\"No major provided. Defaulting to 'AI & Robotics'.\")\n",
        "        major = 'AI & Robotics'\n",
        "\n",
        "    gpa = input(\"Enter your GPA (2.0 - 4.0): \").strip()\n",
        "    try:\n",
        "        gpa = float(gpa)\n",
        "    except:\n",
        "        print(\"Invalid GPA. Using default 3.0.\")\n",
        "        gpa = 3.0\n",
        "\n",
        "    certs = input(\"How many professional certifications do you hold?: \").strip()\n",
        "    try:\n",
        "        certs = int(certs)\n",
        "    except:\n",
        "        print(\"Invalid input. Using default of 0 certifications.\")\n",
        "        certs = 0\n",
        "\n",
        "    return major, gpa, certs\n",
        "\n",
        "user_major, user_gpa, user_certs = get_user_input()\n",
        "\n",
        "# Determine difficulty level based on GPA and certifications\n",
        "if user_gpa >= 3.5 or user_certs >= 2:\n",
        "    inferred_level = 'Advanced'\n",
        "elif user_gpa >= 3.0:\n",
        "    inferred_level = 'Intermediate'\n",
        "else:\n",
        "    inferred_level = 'Beginner'\n",
        "\n",
        "print(f\"\\n Based on your GPA and certifications, you're recommended for: {inferred_level} level courses.\")\n",
        "\n",
        "# Sample course catalog with employment outlook\n",
        "course_catalog = pd.DataFrame({\n",
        "    'course_name': [\n",
        "        'Intro to Machine Learning', 'Advanced Data Science', 'UI/UX Principles',\n",
        "        'Cybersecurity Essentials', 'Finance Analytics', 'AI Ethics & Society',\n",
        "        'Investment Strategies', 'Human-Computer Interaction', 'Blockchain Fundamentals',\n",
        "        'Risk Management in Finance', 'Ethical Hacking', 'AI in Healthcare'\n",
        "    ],\n",
        "    'career_path': [\n",
        "        'AI & Robotics', 'AI & Robotics', 'UI/UX Design',\n",
        "        'Cybersecurity', 'Finance', 'AI & Robotics',\n",
        "        'Finance', 'UI/UX Design', 'Finance',\n",
        "        'Finance', 'Cybersecurity', 'Healthcare Informatics'\n",
        "    ],\n",
        "    'level': [\n",
        "        'Beginner', 'Advanced', 'Beginner', 'Intermediate', 'Intermediate', 'Advanced',\n",
        "        'Advanced', 'Advanced', 'Intermediate', 'Advanced', 'Advanced', 'Intermediate'\n",
        "    ],\n",
        "    'employment_growth': [\n",
        "        'High', 'Very High', 'Moderate', 'Very High', 'High', 'Moderate',\n",
        "        'Very High', 'Moderate', 'High', 'Very High', 'Very High', 'High'\n",
        "    ]\n",
        "})\n",
        "\n",
        "# Add user profile to dataframe for output\n",
        "user_profile = pd.DataFrame({\n",
        "    'gpa': [user_gpa],\n",
        "    'certifications': [user_certs],\n",
        "    'career_goal': [user_major],\n",
        "    'Recommended_Level': [inferred_level]\n",
        "})\n",
        "\n",
        "# Match user input to broader major-related recommended courses\n",
        "recommended_courses = course_catalog[\n",
        "    (course_catalog['career_path'].str.lower().str.contains(user_major.lower())) &\n",
        "    (course_catalog['level'].str.lower() == inferred_level.lower())\n",
        "]\n",
        "\n",
        "if recommended_courses.empty:\n",
        "    print(\"\\nNo direct match found. Showing general success skill course.\")\n",
        "    print(\"\\n Recommended Course: General Success Skills\")\n",
        "else:\n",
        "    print(\"\\n Top Recommended Courses Based on Your Profile:\")\n",
        "    for idx, row in recommended_courses.iterrows():\n",
        "        print(f\"- {row['course_name']}  | Employment Growth: {row['employment_growth']}\")\n",
        "\n",
        "# Save user result (optional)\n",
        "user_profile['Recommended_Course'] = (\n",
        "    recommended_courses.iloc[0]['course_name'] if not recommended_courses.empty else 'General Success Skills'\n",
        ")\n",
        "user_profile.to_csv('user_recommendation_summary.csv', index=False)\n",
        "print(\"\\n✅ Personalized recommendation saved to 'user_recommendation_summary.csv'\")\n"
      ]
    }
  ],
  "metadata": {
    "colab": {
      "provenance": []
    },
    "kernelspec": {
      "display_name": "base",
      "language": "python",
      "name": "python3"
    },
    "language_info": {
      "codemirror_mode": {
        "name": "ipython",
        "version": 3
      },
      "file_extension": ".py",
      "mimetype": "text/x-python",
      "name": "python",
      "nbconvert_exporter": "python",
      "pygments_lexer": "ipython3",
      "version": "3.12.7"
    }
  },
  "nbformat": 4,
  "nbformat_minor": 0
}
