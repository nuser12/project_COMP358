{
  "cells": [
    {
      "cell_type": "code",
      "source": [
        "!pip install pytest pytest-cov"
      ],
      "metadata": {
        "colab": {
          "base_uri": "https://localhost:8080/"
        },
        "id": "Ruce-0x8LeE5",
        "outputId": "cacf81f9-58a5-45ad-eea2-2c04462ed360"
      },
      "id": "Ruce-0x8LeE5",
      "execution_count": 3,
      "outputs": [
        {
          "output_type": "stream",
          "name": "stdout",
          "text": [
            "Requirement already satisfied: pytest in /usr/local/lib/python3.11/dist-packages (8.3.5)\n",
            "Collecting pytest-cov\n",
            "  Downloading pytest_cov-6.1.1-py3-none-any.whl.metadata (28 kB)\n",
            "Requirement already satisfied: iniconfig in /usr/local/lib/python3.11/dist-packages (from pytest) (2.1.0)\n",
            "Requirement already satisfied: packaging in /usr/local/lib/python3.11/dist-packages (from pytest) (24.2)\n",
            "Requirement already satisfied: pluggy<2,>=1.5 in /usr/local/lib/python3.11/dist-packages (from pytest) (1.5.0)\n",
            "Collecting coverage>=7.5 (from coverage[toml]>=7.5->pytest-cov)\n",
            "  Downloading coverage-7.8.0-cp311-cp311-manylinux_2_5_x86_64.manylinux1_x86_64.manylinux_2_17_x86_64.manylinux2014_x86_64.whl.metadata (8.5 kB)\n",
            "Downloading pytest_cov-6.1.1-py3-none-any.whl (23 kB)\n",
            "Downloading coverage-7.8.0-cp311-cp311-manylinux_2_5_x86_64.manylinux1_x86_64.manylinux_2_17_x86_64.manylinux2014_x86_64.whl (244 kB)\n",
            "\u001b[2K   \u001b[90m━━━━━━━━━━━━━━━━━━━━━━━━━━━━━━━━━━━━━━━━\u001b[0m \u001b[32m244.0/244.0 kB\u001b[0m \u001b[31m7.6 MB/s\u001b[0m eta \u001b[36m0:00:00\u001b[0m\n",
            "\u001b[?25hInstalling collected packages: coverage, pytest-cov\n",
            "Successfully installed coverage-7.8.0 pytest-cov-6.1.1\n"
          ]
        }
      ]
    },
    {
      "cell_type": "code",
      "source": [
        "%%writefile course_recommender.py\n",
        "import pandas as pd\n",
        "from sklearn.compose import ColumnTransformer\n",
        "from sklearn.preprocessing import StandardScaler, OneHotEncoder\n",
        "from sklearn.pipeline import Pipeline\n",
        "from sklearn.ensemble import RandomForestClassifier\n",
        "from sklearn.linear_model import LogisticRegression\n",
        "from sklearn.svm import SVC\n",
        "from sklearn.metrics import accuracy_score, f1_score\n",
        "\n",
        "numeric_features = [\n",
        "    'gpa', 'attendance', 'course_load_per_term', 'study_hours_per_week',\n",
        "    'average_grade', 'fail_rate', 'student_difficulty_rating',\n",
        "    'weekly_study_hours_required', 'study_hours_logged'\n",
        "]\n",
        "\n",
        "categorical_features = [\n",
        "    'enrollment_status', 'major_x', 'highest_degree',\n",
        "    'course_difficulty_experience', 'career_goal',\n",
        "    'prerequisite_level', 'delivery_mode', 'completion_status'\n",
        "]\n",
        "\n",
        "def load_and_merge_data():\n",
        "    students_df = pd.read_csv('students_final.csv')\n",
        "    courses_df = pd.read_csv('courses_final.csv')\n",
        "    history_df = pd.read_csv('student_course_history_final.csv')\n",
        "    merged_df = history_df.merge(students_df, on='student_id').merge(courses_df, on='course_id')\n",
        "    return merged_df\n",
        "\n",
        "def build_pipeline(model_type='random_forest'):\n",
        "    preprocessor = ColumnTransformer(transformers=[\n",
        "        ('num', StandardScaler(), numeric_features),\n",
        "        ('cat', OneHotEncoder(handle_unknown='ignore'), categorical_features)\n",
        "    ])\n",
        "\n",
        "    if model_type == 'random_forest':\n",
        "        model = RandomForestClassifier(n_estimators=150, max_depth=15, min_samples_split=2, random_state=42)\n",
        "    elif model_type == 'logistic_regression':\n",
        "        model = LogisticRegression(max_iter=500)\n",
        "    elif model_type == 'svm':\n",
        "        model = SVC(kernel='rbf', probability=True)\n",
        "    else:\n",
        "        raise ValueError(\"Invalid model type\")\n",
        "\n",
        "    pipe = Pipeline([\n",
        "        ('preprocessor', preprocessor),\n",
        "        ('classifier', model)\n",
        "    ])\n",
        "    return pipe\n",
        "\n",
        "def train_and_evaluate_model(pipe, X_train, y_train, X_test, y_test):\n",
        "    pipe.fit(X_train, y_train)\n",
        "    y_pred = pipe.predict(X_test)\n",
        "    acc = accuracy_score(y_test, y_pred)\n",
        "    f1 = f1_score(y_test, y_pred, average='weighted')\n",
        "    return {'accuracy': acc, 'f1_score': f1, 'pipeline': pipe}\n",
        "\n",
        "def generate_recommendations(merged_df):\n",
        "    top_courses = merged_df.groupby('course_name').agg({\n",
        "        'success': 'mean', 'popularity_score': 'mean'\n",
        "    }).reset_index()\n",
        "    top_courses = top_courses.sort_values(by=['success', 'popularity_score'], ascending=[False, False])\n",
        "    return top_courses.head(10)\n"
      ],
      "metadata": {
        "colab": {
          "base_uri": "https://localhost:8080/"
        },
        "id": "d19f5XHaKLHu",
        "outputId": "55f05a31-17f8-4b12-ef10-f813d910a680"
      },
      "id": "d19f5XHaKLHu",
      "execution_count": 4,
      "outputs": [
        {
          "output_type": "stream",
          "name": "stdout",
          "text": [
            "Writing course_recommender.py\n"
          ]
        }
      ]
    },
    {
      "cell_type": "code",
      "source": [
        "%%writefile test_course_recommender.py\n",
        "import pytest\n",
        "import pandas as pd\n",
        "from course_recommender import load_and_merge_data, build_pipeline, train_and_evaluate_model, generate_recommendations\n",
        "from sklearn.model_selection import train_test_split\n",
        "\n",
        "@pytest.fixture(scope=\"module\")\n",
        "def sample_data():\n",
        "    return load_and_merge_data()\n",
        "\n",
        "def test_data_loading(sample_data):\n",
        "    assert not sample_data.empty\n",
        "    assert 'success' in sample_data.columns\n",
        "\n",
        "def test_pipeline_training(sample_data):\n",
        "    X = sample_data[[\n",
        "        'gpa', 'attendance', 'course_load_per_term', 'study_hours_per_week',\n",
        "        'average_grade', 'fail_rate', 'student_difficulty_rating',\n",
        "        'weekly_study_hours_required', 'study_hours_logged',\n",
        "        'enrollment_status', 'major_x', 'highest_degree',\n",
        "        'course_difficulty_experience', 'career_goal', 'prerequisite_level',\n",
        "        'delivery_mode', 'completion_status']]\n",
        "    y = sample_data['success']\n",
        "\n",
        "    X_train, X_test, y_train, y_test = train_test_split(X, y, test_size=0.2, random_state=42, stratify=y)\n",
        "    pipe = build_pipeline('random_forest')\n",
        "    result = train_and_evaluate_model(pipe, X_train, y_train, X_test, y_test)\n",
        "    assert 'accuracy' in result\n",
        "    assert 'f1_score' in result\n",
        "    assert result['accuracy'] >= 0\n",
        "\n",
        "def test_generate_recommendations(sample_data):\n",
        "    top_courses = generate_recommendations(sample_data)\n",
        "    assert not top_courses.empty\n",
        "    assert 'course_name' in top_courses.columns\n",
        "    assert len(top_courses) <= 10\n"
      ],
      "metadata": {
        "colab": {
          "base_uri": "https://localhost:8080/"
        },
        "id": "Pdr9XS_EKMal",
        "outputId": "fea76944-ff93-455b-92f9-d003281a237a"
      },
      "id": "Pdr9XS_EKMal",
      "execution_count": 5,
      "outputs": [
        {
          "output_type": "stream",
          "name": "stdout",
          "text": [
            "Writing test_course_recommender.py\n"
          ]
        }
      ]
    },
    {
      "cell_type": "code",
      "source": [
        "!pytest --maxfail=1 --disable-warnings --cov=course_recommender test_course_recommender.py\n"
      ],
      "metadata": {
        "colab": {
          "base_uri": "https://localhost:8080/"
        },
        "id": "XZ_EDCEyLl5m",
        "outputId": "ee1ce602-3b37-4782-a588-46838072c1c5"
      },
      "id": "XZ_EDCEyLl5m",
      "execution_count": 6,
      "outputs": [
        {
          "output_type": "stream",
          "name": "stdout",
          "text": [
            "\u001b[1m============================= test session starts ==============================\u001b[0m\n",
            "platform linux -- Python 3.11.12, pytest-8.3.5, pluggy-1.5.0\n",
            "rootdir: /content\n",
            "plugins: cov-6.1.1, langsmith-0.3.24, typeguard-4.4.2, anyio-4.9.0\n",
            "collected 3 items                                                              \u001b[0m\n",
            "\n",
            "test_course_recommender.py \u001b[32m.\u001b[0m\u001b[32m.\u001b[0m\u001b[32m.\u001b[0m\u001b[32m                                           [100%]\u001b[0m\n",
            "\n",
            "================================ tests coverage ================================\n",
            "_______________ coverage: platform linux, python 3.11.12-final-0 _______________\n",
            "\n",
            "Name                    Stmts   Miss  Cover\n",
            "-------------------------------------------\n",
            "course_recommender.py      37      5    86%\n",
            "-------------------------------------------\n",
            "TOTAL                      37      5    86%\n",
            "\u001b[32m============================== \u001b[32m\u001b[1m3 passed\u001b[0m\u001b[32m in 11.27s\u001b[0m\u001b[32m ==============================\u001b[0m\n"
          ]
        }
      ]
    }
  ],
  "metadata": {
    "colab": {
      "provenance": []
    },
    "language_info": {
      "name": "python"
    },
    "kernelspec": {
      "name": "python3",
      "display_name": "Python 3"
    }
  },
  "nbformat": 4,
  "nbformat_minor": 5
}